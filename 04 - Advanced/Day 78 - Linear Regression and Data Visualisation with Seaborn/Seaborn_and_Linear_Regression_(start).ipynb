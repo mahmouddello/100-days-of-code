{
 "cells": [
  {
   "cell_type": "markdown",
   "metadata": {
    "id": "gltiGJhvrzaL"
   },
   "source": [
    "# Introduction\n",
    "\n",
    "Do higher film budgets lead to more box office revenue? Let's find out if there's a relationship using the movie budgets and financial performance data that I've scraped from [the-numbers.com](https://www.the-numbers.com/movie/budgets) on **May 1st, 2018**. \n",
    "\n",
    "<img src=https://i.imgur.com/kq7hrEh.png>"
   ]
  },
  {
   "cell_type": "markdown",
   "metadata": {
    "id": "zkLrvlKvtdih"
   },
   "source": [
    "# Import Statements"
   ]
  },
  {
   "cell_type": "code",
   "execution_count": null,
   "metadata": {
    "id": "NpDk_q_Urroj"
   },
   "outputs": [],
   "source": [
    "import pandas as pd\n",
    "import matplotlib.pyplot as plt\n",
    "import seaborn as sns\n",
    "from sklearn.linear_model import LinearRegression"
   ]
  },
  {
   "cell_type": "markdown",
   "metadata": {
    "id": "x5B-UDvXtnC6"
   },
   "source": [
    "# Notebook Presentation"
   ]
  },
  {
   "cell_type": "code",
   "execution_count": null,
   "metadata": {
    "id": "nM_otvWztjpT"
   },
   "outputs": [],
   "source": [
    "pd.options.display.float_format = '{:,.2f}'.format\n",
    "\n",
    "from pandas.plotting import register_matplotlib_converters\n",
    "\n",
    "register_matplotlib_converters()"
   ]
  },
  {
   "cell_type": "markdown",
   "metadata": {
    "id": "v-fnwNYJtthe"
   },
   "source": [
    "# Read the Data"
   ]
  },
  {
   "cell_type": "code",
   "execution_count": null,
   "metadata": {
    "id": "xhwvQQWitrf4"
   },
   "outputs": [],
   "source": [
    "data = pd.read_csv('./data/cost_revenue_dirty.csv')"
   ]
  },
  {
   "cell_type": "markdown",
   "metadata": {
    "id": "tbg8_J5SuHhs"
   },
   "source": [
    "# Explore and Clean the Data"
   ]
  },
  {
   "cell_type": "code",
   "execution_count": null,
   "outputs": [],
   "source": [
    "data.head()"
   ],
   "metadata": {
    "collapsed": false
   }
  },
  {
   "cell_type": "markdown",
   "metadata": {
    "id": "xAtdcURCuL0Z"
   },
   "source": [
    "**Challenge**: Answer these questions about the dataset:\n",
    "1. How many rows and columns does the dataset contain?\n",
    "2. Are there any NaN values present?\n",
    "3. Are there any duplicate rows?\n",
    "4. What are the data types of the columns?"
   ]
  },
  {
   "cell_type": "code",
   "execution_count": null,
   "metadata": {
    "id": "PV3KLBSVTMDN"
   },
   "outputs": [],
   "source": [
    "print(f\"Dataset has {data.shape[0]} rows and {data.shape[1]} columns.\")\n",
    "print(f\"Does dataset has NaN Values? [{data.isna().values.any()}]\")\n",
    "print(f\"Does dataset have duplicate rows? [{data.duplicated().values.any()}]\")\n",
    "print(f\"Datatype of columns:\\n{data.dtypes}\")"
   ]
  },
  {
   "cell_type": "markdown",
   "metadata": {
    "id": "v8spadDNvpVG"
   },
   "source": [
    "### Data Type Conversions"
   ]
  },
  {
   "cell_type": "markdown",
   "metadata": {
    "id": "9F8KFST4ulrd"
   },
   "source": [
    "**Challenge**: Convert the `USD_Production_Budget`, `USD_Worldwide_Gross`, and `USD_Domestic_Gross` columns to a numeric format by removing `$` signs and `,`. \n",
    "<br>\n",
    "<br>\n",
    "Note that *domestic* in this context refers to the United States."
   ]
  },
  {
   "cell_type": "code",
   "execution_count": null,
   "metadata": {
    "id": "BmdCbLf-TPXk"
   },
   "outputs": [],
   "source": [
    "# Cleaning\n",
    "data[\"USD_Production_Budget\"] = data[\"USD_Production_Budget\"].astype(str).str.replace(\"$\", \"\").str.replace(\",\", \"\")\n",
    "data[\"USD_Worldwide_Gross\"] = data[\"USD_Worldwide_Gross\"].astype(str).str.replace(\"$\", \"\").str.replace(\",\", \"\")\n",
    "data[\"USD_Domestic_Gross\"] = data[\"USD_Worldwide_Gross\"].astype(str).str.replace(\"$\", \"\").str.replace(\",\", \"\")\n",
    "\n",
    "# Conversions\n",
    "data[\"USD_Production_Budget\"] = pd.to_numeric(data[\"USD_Production_Budget\"])\n",
    "data[\"USD_Worldwide_Gross\"] = pd.to_numeric(data[\"USD_Worldwide_Gross\"])\n",
    "data[\"USD_Domestic_Gross\"] = pd.to_numeric(data[\"USD_Domestic_Gross\"])\n",
    "\n",
    "data.dtypes"
   ]
  },
  {
   "cell_type": "markdown",
   "metadata": {
    "id": "cA01iJHkvWhl"
   },
   "source": [
    "**Challenge**: Convert the `Release_Date` column to a Pandas Datetime type. "
   ]
  },
  {
   "cell_type": "code",
   "execution_count": null,
   "metadata": {
    "id": "Pq1WfvRnTRU6"
   },
   "outputs": [],
   "source": [
    "data[\"Release_Date\"] = pd.to_datetime(data[\"Release_Date\"])\n",
    "data.dtypes"
   ]
  },
  {
   "cell_type": "markdown",
   "metadata": {
    "id": "NkwmJO3tvt5i"
   },
   "source": [
    "### Descriptive Statistics"
   ]
  },
  {
   "cell_type": "markdown",
   "metadata": {
    "id": "bnb54thrvx5r"
   },
   "source": [
    "**Challenge**: \n",
    "\n",
    "1. What is the average production budget of the films in the data set?\n",
    "2. What is the average worldwide gross revenue of films?\n",
    "3. What were the minimums for worldwide and domestic revenue?\n",
    "4. Are the bottom 25% of films actually profitable or do they lose money?\n",
    "5. What are the highest production budget and highest worldwide gross revenue of any film?\n",
    "6. How much revenue did the lowest and highest budget films make?"
   ]
  },
  {
   "cell_type": "code",
   "execution_count": null,
   "metadata": {
    "id": "8G5_FATFTTtb"
   },
   "outputs": [],
   "source": [
    "data.describe().T"
   ]
  },
  {
   "cell_type": "markdown",
   "metadata": {
    "id": "Cj-ug32JyEhp"
   },
   "source": [
    "# Investigating the Zero Revenue Films"
   ]
  },
  {
   "cell_type": "markdown",
   "metadata": {
    "id": "U9hm-pb4xTjY"
   },
   "source": [
    "**Challenge** How many films grossed $0 domestically (i.e., in the United States)? What were the highest budget films that grossed nothing?"
   ]
  },
  {
   "cell_type": "code",
   "execution_count": null,
   "metadata": {
    "id": "MXuRYdy0TWkt"
   },
   "outputs": [],
   "source": [
    "zero_domestic: pd.DataFrame = data[data[\"USD_Domestic_Gross\"] == 0]\n",
    "zero_domestic = zero_domestic.sort_values(by=\"USD_Production_Budget\", ascending=False)\n",
    "print(f\"Number of films that made 0$ domestically: {len(zero_domestic)}\")\n",
    "zero_domestic"
   ]
  },
  {
   "cell_type": "markdown",
   "metadata": {
    "id": "mY8SAwI0x73b"
   },
   "source": [
    "**Challenge**: How many films grossed $0 worldwide? What are the highest budget films that had no revenue internationally?"
   ]
  },
  {
   "cell_type": "code",
   "execution_count": null,
   "metadata": {
    "id": "VpfocexxTXym"
   },
   "outputs": [],
   "source": [
    "zero_worldwide: pd.DataFrame = data[data[\"USD_Worldwide_Gross\"] == 0]\n",
    "zero_worldwide = zero_worldwide.sort_values(by=\"USD_Production_Budget\", ascending=False)\n",
    "print(f\"Number of films that made 0$ worldwide: {len(zero_worldwide)}\")\n",
    "zero_worldwide"
   ]
  },
  {
   "cell_type": "markdown",
   "metadata": {
    "id": "eXUDzWpeyV2f"
   },
   "source": [
    "### Filtering on Multiple Conditions"
   ]
  },
  {
   "cell_type": "markdown",
   "source": [
    "So far, we've created subsets for our DataFrames based on a single condition. But what if we want to select our data based on more than one condition? For example, which films made money internationally (i.e., data.USD_Worldwide_Gross != 0), but had zero box office revenue in the United States (i.e., data.USD_Domestic_Gross == 0)? \n",
    "\n",
    "How would we create a filter for these two conditions? One approach is to use the `.loc[]` property combined with the [bitwise](https://docs.python.org/3.4/library/operator.html#mapping-operators-to-functions) and `&` operator."
   ],
   "metadata": {
    "collapsed": false
   }
  },
  {
   "cell_type": "code",
   "execution_count": null,
   "outputs": [],
   "source": [
    "only_zero_domestically = data.loc[(data[\"USD_Domestic_Gross\"] == 0) & (data[\"USD_Worldwide_Gross\"] != 0)]\n",
    "only_zero_domestically"
   ],
   "metadata": {
    "collapsed": false
   }
  },
  {
   "cell_type": "markdown",
   "metadata": {
    "id": "YruPjqLVPuiB"
   },
   "source": [
    "**Challenge**: Use the [`.query()` function](https://pandas.pydata.org/pandas-docs/stable/reference/api/pandas.DataFrame.query.html) to accomplish the same thing. Create a subset for international releases that had some worldwide gross revenue, but made zero revenue in the United States. \n",
    "\n",
    "Hint: This time you'll have to use the `and` keyword."
   ]
  },
  {
   "cell_type": "code",
   "execution_count": null,
   "metadata": {
    "id": "Xvu-jTCwTavg"
   },
   "outputs": [],
   "source": [
    "only_zero_domestically_query = data.query(\"USD_Worldwide_Gross != 0 and USD_Domestic_Gross == 0\")\n",
    "only_zero_domestically_query"
   ]
  },
  {
   "cell_type": "markdown",
   "metadata": {
    "id": "EM-FTE4OZhfr"
   },
   "source": [
    "### Unreleased Films\n",
    "\n",
    "**Challenge**:\n",
    "* Identify which films were not released yet as of the time of data collection (May 1st, 2018).\n",
    "* How many films are included in the dataset that have not yet had a chance to be screened in the box office? \n",
    "* Create another DataFrame called data_clean that does not include these films. "
   ]
  },
  {
   "cell_type": "code",
   "execution_count": null,
   "metadata": {
    "id": "PIukYVY9Zpxu"
   },
   "outputs": [],
   "source": [
    "# Date of Data Collection\n",
    "scrape_date = pd.Timestamp('2018-5-1')\n",
    "future_releases = data[data[\"Release_Date\"] > scrape_date]\n",
    "future_releases"
   ]
  },
  {
   "cell_type": "code",
   "execution_count": null,
   "metadata": {
    "id": "OAI0VsM3Tc6v"
   },
   "outputs": [],
   "source": [
    "# We will work on clean dataframe\n",
    "data_cleaned = data.drop(future_releases.index)\n",
    "data_cleaned.shape"
   ]
  },
  {
   "cell_type": "markdown",
   "metadata": {
    "id": "khrJcXlGZWZO"
   },
   "source": [
    "### Films that Lost Money\n",
    "\n",
    "**Challenge**: \n",
    "What is the percentage of films where the production costs exceeded the worldwide gross revenue? "
   ]
  },
  {
   "cell_type": "code",
   "execution_count": null,
   "metadata": {
    "id": "7uW_U9StTgvZ"
   },
   "outputs": [],
   "source": [
    "data_cleaned.describe()"
   ]
  },
  {
   "cell_type": "code",
   "execution_count": null,
   "outputs": [],
   "source": [
    "budget_over_worldwide_gross = data_cleaned[data_cleaned[\"USD_Production_Budget\"] > data_cleaned[\"USD_Worldwide_Gross\"]]\n",
    "print(f\"Number of films that there budget exceed the revenue: {len(budget_over_worldwide_gross)}\")\n",
    "print(f\"Percentage: {len(budget_over_worldwide_gross) / len(data_cleaned)}\")\n",
    "budget_over_worldwide_gross"
   ],
   "metadata": {
    "collapsed": false
   }
  },
  {
   "cell_type": "markdown",
   "metadata": {
    "id": "cfJUL3WwyiDy"
   },
   "source": [
    "# Seaborn for Data Viz: Bubble Charts"
   ]
  },
  {
   "cell_type": "code",
   "execution_count": null,
   "outputs": [],
   "source": [
    "# Seaborn is built on top of Matplotlib\n",
    "\n",
    "plt.figure(figsize=(8, 4), dpi=200)\n",
    "\n",
    "fig = sns.scatterplot(\n",
    "    data=data_cleaned,\n",
    "    x=\"USD_Production_Budget\",\n",
    "    y=\"USD_Worldwide_Gross\"\n",
    ")\n",
    "\n",
    "fig.set(\n",
    "    ylim=(0, 3000000000),\n",
    "    xlim=(0, 450000000),\n",
    "    xlabel=\"Budget in $100 Millions\",\n",
    "    ylabel=\"Revenue in $ Billions\"\n",
    ")\n",
    "\n",
    "plt.show()"
   ],
   "metadata": {
    "collapsed": false
   }
  },
  {
   "cell_type": "markdown",
   "source": [
    "Seaborn Built on top of Matplotlib\n",
    "<br>\n",
    "<img src=\"./images/scatter_returns.png\">"
   ],
   "metadata": {
    "collapsed": false
   }
  },
  {
   "cell_type": "markdown",
   "metadata": {
    "id": "e7NIOiL2y3en"
   },
   "source": [
    "### Plotting Movie Releases over Time\n",
    "\n",
    "**Challenge**: Try to create the following Bubble Chart:\n",
    "\n",
    "<img src=https://i.imgur.com/8fUn9T6.png>\n",
    "\n"
   ]
  },
  {
   "cell_type": "code",
   "execution_count": null,
   "metadata": {
    "id": "OT0D-i3HTmsB"
   },
   "outputs": [],
   "source": [
    "plt.figure(figsize=(8, 4), dpi=200)\n",
    "\n",
    "fig_bubble = sns.scatterplot(\n",
    "    data=data_cleaned,\n",
    "    x=\"Release_Date\",\n",
    "    y=\"USD_Production_Budget\",\n",
    "    hue=\"USD_Worldwide_Gross\"\n",
    ")\n",
    "\n",
    "fig_bubble.set(\n",
    "    xlim=(data_cleaned.Release_Date.min(), data_cleaned.Release_Date.max()),\n",
    "    ylim=(0, 450000000),\n",
    "    xlabel=\"Year\",\n",
    "    ylabel=\"Revenue in $100 Millions\"\n",
    ")\n",
    "\n",
    "plt.show()  # Small budgets = few films, More releases = Growing budgets"
   ]
  },
  {
   "cell_type": "markdown",
   "metadata": {
    "id": "r_2hFz9py84b"
   },
   "source": [
    "# Converting Years to Decades Trick\n",
    "\n",
    "**Challenge**: Create a column in `data_clean` that has the decade of the release. \n",
    "\n",
    "<img src=https://i.imgur.com/0VEfagw.png width=650> \n",
    "\n",
    "Here's how: \n",
    "1. Create a [`DatetimeIndex` object](https://pandas.pydata.org/pandas-docs/stable/reference/api/pandas.DatetimeIndex.html) from the Release_Date column. \n",
    "2. Grab all the years from the `DatetimeIndex` object using the `.year` property.\n",
    "<img src=https://i.imgur.com/5m06Ach.png width=650>\n",
    "3. <br>\n",
    "4. Use floor division `//` to convert the year data to the decades of the films.\n",
    "5. Add the decades as a `Decade` column to the `data_clean` DataFrame."
   ]
  },
  {
   "cell_type": "markdown",
   "source": [
    "### pd.DatetimeIndex:\n",
    "[Source](https://pandas.pydata.org/docs/reference/api/pandas.DatetimeIndex.html)"
   ],
   "metadata": {
    "collapsed": false
   }
  },
  {
   "cell_type": "code",
   "execution_count": null,
   "metadata": {
    "id": "lak08IPMTn-j"
   },
   "outputs": [],
   "source": [
    "dt_index = pd.DatetimeIndex(data_cleaned[\"Release_Date\"])\n",
    "years = dt_index.year\n",
    "decades = (years // 10) * 10\n",
    "data_cleaned[\"Decade\"] = decades\n",
    "# OR: years - (years % 10)\n",
    "data_cleaned.tail()"
   ]
  },
  {
   "cell_type": "markdown",
   "metadata": {
    "id": "q-X7NK_9zIz9"
   },
   "source": [
    "### Separate the \"old\" (before 1969) and \"New\" (1970s onwards) Films\n",
    "\n",
    "**Challenge**: Create two new DataFrames: `old_films` and `new_films`\n",
    "* `old_films` should include all the films before 1969 (up to and including 1969)\n",
    "* `new_films` should include all the films from 1970 onwards\n",
    "* How many films were released prior to 1970?\n",
    "* What was the most expensive film made prior to 1970?"
   ]
  },
  {
   "cell_type": "code",
   "execution_count": null,
   "metadata": {
    "id": "qe93nMcBTqQz"
   },
   "outputs": [],
   "source": [
    "old_films = data_cleaned[data_cleaned.Decade <= 1969]\n",
    "new_films = data_cleaned[data_cleaned.Decade > 1970]\n",
    "old_films.describe()"
   ]
  },
  {
   "cell_type": "code",
   "execution_count": null,
   "outputs": [],
   "source": [
    "old_films.sort_values(by=\"USD_Production_Budget\", ascending=False)  # cleopatra was most expensive"
   ],
   "metadata": {
    "collapsed": false
   }
  },
  {
   "cell_type": "code",
   "execution_count": null,
   "outputs": [],
   "source": [
    "new_films.describe()"
   ],
   "metadata": {
    "collapsed": false
   }
  },
  {
   "cell_type": "markdown",
   "metadata": {
    "id": "msXABzF3zW7e"
   },
   "source": [
    "# Seaborn Regression Plots"
   ]
  },
  {
   "cell_type": "markdown",
   "source": [
    "Let's visualise the relationship between the movie budget and the worldwide revenue using linear regression. Seaborn makes this incredibly easy with the `.regplot()` function."
   ],
   "metadata": {
    "collapsed": false
   }
  },
  {
   "cell_type": "code",
   "execution_count": null,
   "outputs": [],
   "source": [
    "plt.figure(figsize=(8, 4), dpi=200)\n",
    "\n",
    "with sns.axes_style(\"whitegrid\"):\n",
    "    sns.regplot(\n",
    "        old_films,\n",
    "        x=\"USD_Production_Budget\",\n",
    "        y=\"USD_Worldwide_Gross\",\n",
    "        scatter_kws={\"alpha\": 0.4},\n",
    "        line_kws={\"color\": \"black\"}\n",
    "    )\n",
    "\n",
    "plt.show()"
   ],
   "metadata": {
    "collapsed": false
   }
  },
  {
   "cell_type": "markdown",
   "metadata": {
    "id": "6k4MeLmxWFwX"
   },
   "source": [
    "**Challenge**: Use Seaborn's `.regplot()` to show the scatter plot and linear regression line against the `new_films`. \n",
    "<br>\n",
    "<br>\n",
    "Style the chart\n",
    "\n",
    "* Put the chart on a `'darkgrid'`.\n",
    "* Set limits on the axes so that they don't show negative values.\n",
    "* Label the axes on the plot \"Revenue in  billions\" and \"Budget in  millions\".\n",
    "* Provide HEX colour codes for the plot and the regression line. Make the dots dark blue (#2f4b7c) and the line orange (#ff7c43).\n",
    "\n",
    "Interpret the chart\n",
    "\n",
    "* Do our data points for the new films align better or worse with the linear regression than for our older films?\n",
    "* Roughly how much would a film with a budget of $150 million make according to the regression line?"
   ]
  },
  {
   "cell_type": "code",
   "execution_count": null,
   "metadata": {
    "id": "6cOVsxqvTui2"
   },
   "outputs": [],
   "source": [
    "plt.figure(figsize=(8,4), dpi=200)\n",
    "with sns.axes_style('darkgrid'):\n",
    "  ax = sns.regplot(data=new_films,\n",
    "                   x='USD_Production_Budget',\n",
    "                   y='USD_Worldwide_Gross',\n",
    "                   color='#2f4b7c',\n",
    "                   scatter_kws = {'alpha': 0.3},\n",
    "                   line_kws = {'color': '#ff7c43'})\n",
    "  \n",
    "  ax.set(ylim=(0, 3000000000),\n",
    "         xlim=(0, 450000000),\n",
    "         ylabel='Revenue in $ billions',\n",
    "         xlabel='Budget in $100 millions') \n",
    "  \n",
    "plt.show()"
   ]
  },
  {
   "cell_type": "markdown",
   "metadata": {
    "id": "Q1SUPPMAzlVK"
   },
   "source": [
    "# Run Your Own Regression with scikit-learn (Skipped)\n",
    "\n",
    "$$ REV \\hat ENUE = \\theta _0 + \\theta _1 BUDGET$$"
   ]
  },
  {
   "cell_type": "code",
   "execution_count": null,
   "metadata": {
    "id": "QmX-wMMLTwBW"
   },
   "outputs": [],
   "source": []
  },
  {
   "cell_type": "markdown",
   "metadata": {
    "id": "o23E9iT1RHQ1"
   },
   "source": [
    "**Challenge**: Run a linear regression for the `old_films`. Calculate the intercept, slope and r-squared. How much of the variance in movie revenue does the linear model explain in this case?"
   ]
  },
  {
   "cell_type": "code",
   "execution_count": null,
   "metadata": {
    "id": "Sd43DJNDT0yQ"
   },
   "outputs": [],
   "source": []
  },
  {
   "cell_type": "code",
   "execution_count": null,
   "metadata": {
    "id": "ygKsLBx5Rs7t"
   },
   "outputs": [],
   "source": []
  },
  {
   "cell_type": "markdown",
   "metadata": {
    "id": "hoD3PeG75p78"
   },
   "source": [
    "# Use Your Model to Make a Prediction\n",
    "\n",
    "We just estimated the slope and intercept! Remember that our Linear Model has the following form:\n",
    "\n",
    "$$ REV \\hat ENUE = \\theta _0 + \\theta _1 BUDGET$$\n",
    "\n",
    "**Challenge**:  How much global revenue does our model estimate for a film with a budget of $350 million? "
   ]
  },
  {
   "cell_type": "code",
   "execution_count": null,
   "metadata": {
    "id": "fX4I4h5i5rgF"
   },
   "outputs": [],
   "source": []
  },
  {
   "cell_type": "code",
   "execution_count": null,
   "metadata": {
    "id": "fB2Yp8ln5qfO"
   },
   "outputs": [],
   "source": []
  }
 ],
 "metadata": {
  "colab": {
   "name": "Seaborn and Linear Regression (start).ipynb",
   "provenance": []
  },
  "kernelspec": {
   "display_name": "Python 3 (ipykernel)",
   "language": "python",
   "name": "python3"
  },
  "language_info": {
   "codemirror_mode": {
    "name": "ipython",
    "version": 3
   },
   "file_extension": ".py",
   "mimetype": "text/x-python",
   "name": "python",
   "nbconvert_exporter": "python",
   "pygments_lexer": "ipython3",
   "version": "3.11.4"
  }
 },
 "nbformat": 4,
 "nbformat_minor": 4
}
