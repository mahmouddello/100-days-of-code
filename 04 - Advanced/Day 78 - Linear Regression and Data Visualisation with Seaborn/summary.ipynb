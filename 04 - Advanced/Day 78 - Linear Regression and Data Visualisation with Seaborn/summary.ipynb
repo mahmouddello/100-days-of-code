{
 "cells": [
  {
   "cell_type": "markdown",
   "source": [
    "# Learning Points & Summary\n",
    "Today was a pretty packed lesson where we introduced a lot of new concepts. In this lesson we looked at how to:\n",
    "\n",
    "* Use nested loops to remove unwanted characters from multiple columns\n",
    "\n",
    "* Filter Pandas DataFrames based on multiple conditions using both `.loc[]` and `.query()`\n",
    "\n",
    "* Create bubble charts using the Seaborn Library\n",
    "\n",
    "* Style Seaborn charts using the pre-built styles and by modifying Matplotlib parameters\n",
    "\n",
    "* Use floor division (i.e., integer division) to convert years to decades\n",
    "\n",
    "* Use Seaborn to superimpose a linear regressions over our data\n",
    "\n",
    "* Make a judgement if our regression is good or bad based on how well the model fits our data and the r-squared metric\n",
    "\n",
    "* Run regressions with scikit-learn and calculate the coefficients.\n",
    "\n",
    "\n",
    "\n",
    "You can download the completed code for today in this lesson.\n",
    "\n",
    "\n",
    "\n",
    "Well done on completing the next step in your data science journey 👏👏👏 Upwards and onwards!"
   ],
   "metadata": {
    "collapsed": false
   },
   "id": "a750421d2325a742"
  },
  {
   "cell_type": "code",
   "execution_count": null,
   "outputs": [],
   "source": [],
   "metadata": {
    "collapsed": false
   },
   "id": "eb34f604b4de43ec"
  }
 ],
 "metadata": {
  "kernelspec": {
   "display_name": "Python 3",
   "language": "python",
   "name": "python3"
  },
  "language_info": {
   "codemirror_mode": {
    "name": "ipython",
    "version": 2
   },
   "file_extension": ".py",
   "mimetype": "text/x-python",
   "name": "python",
   "nbconvert_exporter": "python",
   "pygments_lexer": "ipython2",
   "version": "2.7.6"
  }
 },
 "nbformat": 4,
 "nbformat_minor": 5
}
