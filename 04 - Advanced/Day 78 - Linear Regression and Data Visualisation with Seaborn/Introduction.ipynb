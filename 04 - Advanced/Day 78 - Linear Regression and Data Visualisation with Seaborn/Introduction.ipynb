{
 "cells": [
  {
   "cell_type": "markdown",
   "source": [
    "# Day 78 Goals: what you will make by the end of the day"
   ],
   "metadata": {
    "collapsed": false
   },
   "id": "4fcfea4929331853"
  },
  {
   "cell_type": "markdown",
   "source": [
    "In this lesson, we're going to be looking at movie budget and revenue data. This dataset is perfect for trying out some new tools like scikit-learn to run a linear regression and seaborn, a popular data visualisation library built on top of Matplotlib. <br>\n",
    "<img src=\"./images/films.png\">"
   ],
   "metadata": {
    "collapsed": false
   },
   "id": "dc3848c378439ae7"
  },
  {
   "cell_type": "markdown",
   "source": [
    "## The question we want to answer today is: Do higher film budgets lead to more revenue in the box office? In other words, should a movie studio spend more on a film to make more? "
   ],
   "metadata": {
    "collapsed": false
   },
   "id": "c7e95940b5371327"
  },
  {
   "cell_type": "markdown",
   "source": [
    "### Today you'll learn:\n",
    "\n",
    "* How to use a popular data visualisation library called Seaborn\n",
    "\n",
    "* How to run and interpret a linear regression with scikit-learn\n",
    "\n",
    "* How to plot a regression a scatter plot to visualise relationships in the data\n",
    "\n",
    "* How to add a third dimension to a scatter plot to create a bubble chart\n",
    "\n",
    "* How to cleverly use floor division // to convert your data <br>\n",
    "\n",
    "<img src=\"./images/seaborn.png\">"
   ],
   "metadata": {
    "collapsed": false
   },
   "id": "8a53b360c4219d62"
  },
  {
   "cell_type": "markdown",
   "source": [
    "Download and add the Notebook to Google Drive\n",
    "\n",
    "As usual, download the .zip file from this lesson and extract it. Add the .ipynb file into your Google Drive and open it as a Google Colaboratory notebook.\n",
    "\n",
    "\n",
    "\n",
    "Add the Data to the Notebook\n",
    "\n",
    "The .zip file also includes a .csv file called cost_revenue_dirty. This is the data for the project. Add this file to your notebook. \n",
    "<br>\n",
    "\n",
    "<img src=\"./images/scikit-learn.png\">"
   ],
   "metadata": {
    "collapsed": false
   },
   "id": "d8eab25b54246dc4"
  },
  {
   "cell_type": "code",
   "execution_count": null,
   "outputs": [],
   "source": [],
   "metadata": {
    "collapsed": false
   },
   "id": "6d9ca710cc5b8f90"
  }
 ],
 "metadata": {
  "kernelspec": {
   "display_name": "Python 3",
   "language": "python",
   "name": "python3"
  },
  "language_info": {
   "codemirror_mode": {
    "name": "ipython",
    "version": 2
   },
   "file_extension": ".py",
   "mimetype": "text/x-python",
   "name": "python",
   "nbconvert_exporter": "python",
   "pygments_lexer": "ipython2",
   "version": "2.7.6"
  }
 },
 "nbformat": 4,
 "nbformat_minor": 5
}
