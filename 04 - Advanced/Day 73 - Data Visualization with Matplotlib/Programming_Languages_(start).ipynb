{
 "nbformat": 4,
 "nbformat_minor": 0,
 "metadata": {
  "kernelspec": {
   "display_name": "Python 3",
   "language": "python",
   "name": "python3"
  },
  "language_info": {
   "codemirror_mode": {
    "name": "ipython",
    "version": 3
   },
   "file_extension": ".py",
   "mimetype": "text/x-python",
   "name": "python",
   "nbconvert_exporter": "python",
   "pygments_lexer": "ipython3",
   "version": "3.7.3"
  },
  "colab": {
   "name": "Programming Languages (start).ipynb",
   "provenance": []
  }
 },
 "cells": [
  {
   "cell_type": "markdown",
   "metadata": {
    "id": "MAAKxOwsGxuj",
    "colab_type": "text"
   },
   "source": [
    "## Get the Data\n",
    "\n",
    "Either use the provided .csv file or (optionally) get fresh (the freshest?) data from running an SQL query on StackExchange: \n",
    "\n",
    "Follow this link to run the query from [StackExchange](https://data.stackexchange.com/stackoverflow/query/675441/popular-programming-languages-per-over-time-eversql-com) to get your own .csv file\n",
    "\n",
    "<code>\n",
    "select dateadd(month, datediff(month, 0, q.CreationDate), 0) m, TagName, count(*)\n",
    "from PostTags pt\n",
    "join Posts q on q.Id=pt.PostId\n",
    "join Tags t on t.Id=pt.TagId\n",
    "where TagName in ('java','c','c++','python','c#','javascript','assembly','php','perl','ruby','visual basic','swift','r','object-c','scratch','go','swift','delphi')\n",
    "and q.CreationDate < dateadd(month, datediff(month, 0, getdate()), 0)\n",
    "group by dateadd(month, datediff(month, 0, q.CreationDate), 0), TagName\n",
    "order by dateadd(month, datediff(month, 0, q.CreationDate), 0)\n",
    "</code>"
   ]
  },
  {
   "cell_type": "markdown",
   "metadata": {
    "id": "u5KcSXt1Gxuk",
    "colab_type": "text"
   },
   "source": [
    "## Import Statements"
   ]
  },
  {
   "cell_type": "code",
   "metadata": {
    "id": "Ru4Wq-pXGxuk",
    "colab_type": "code",
    "colab": {}
   },
   "source": [
    "import pandas as pd"
   ],
   "execution_count": null,
   "outputs": []
  },
  {
   "cell_type": "markdown",
   "metadata": {
    "id": "xEP6beuEGxun",
    "colab_type": "text"
   },
   "source": [
    "## Data Exploration"
   ]
  },
  {
   "cell_type": "markdown",
   "metadata": {
    "id": "w3Q75B4CGxun",
    "colab_type": "text"
   },
   "source": [
    "**Challenge**: Read the .csv file and store it in a Pandas dataframe"
   ]
  },
  {
   "cell_type": "code",
   "metadata": {
    "id": "Bm7hQtEGIiri",
    "colab_type": "code",
    "colab": {}
   },
   "source": [
    "df = pd.read_csv(\"./QueryResults.csv\", header=0)\n",
    "df.columns = ['DATE', 'TAG', 'POSTS']"
   ],
   "execution_count": null,
   "outputs": []
  },
  {
   "cell_type": "markdown",
   "metadata": {
    "id": "x2WnDM75Gxup",
    "colab_type": "text"
   },
   "source": [
    "**Challenge**: Examine the first 5 rows and the last 5 rows of the dataframe"
   ]
  },
  {
   "cell_type": "code",
   "metadata": {
    "id": "50oqpUxVIiJf",
    "colab_type": "code",
    "colab": {}
   },
   "source": [
    "df.head()"
   ],
   "execution_count": null,
   "outputs": []
  },
  {
   "cell_type": "markdown",
   "metadata": {
    "id": "0o9hvVgyGxus",
    "colab_type": "text"
   },
   "source": [
    "**Challenge:** Check how many rows and how many columns there are. \n",
    "What are the dimensions of the dataframe?"
   ]
  },
  {
   "cell_type": "code",
   "metadata": {
    "id": "ZUidjCPFIho8",
    "colab_type": "code",
    "colab": {}
   },
   "source": [
    "shape = df.shape\n",
    "dimensions = df.ndim\n",
    "print(f\"Shape: {shape}\\nDimensions: {dimensions}\")"
   ],
   "execution_count": null,
   "outputs": []
  },
  {
   "cell_type": "markdown",
   "metadata": {
    "id": "ybZkNLmxGxuu",
    "colab_type": "text"
   },
   "source": [
    "**Challenge**: Count the number of entries in each column of the dataframe"
   ]
  },
  {
   "cell_type": "code",
   "metadata": {
    "id": "Sc1dmmOoIg2g",
    "colab_type": "code",
    "colab": {}
   },
   "source": [
    "df.count()"
   ],
   "execution_count": null,
   "outputs": []
  },
  {
   "cell_type": "markdown",
   "metadata": {
    "id": "hlnfFsscGxuw",
    "colab_type": "text"
   },
   "source": [
    "**Challenge**: Calculate the total number of post per language.\n",
    "Which Programming language has had the highest total number of posts of all time?"
   ]
  },
  {
   "cell_type": "code",
   "metadata": {
    "id": "9-NYFONcIc1X",
    "colab_type": "code",
    "colab": {}
   },
   "source": [
    "df.groupby(\"TAG\").sum()"
   ],
   "execution_count": null,
   "outputs": []
  },
  {
   "cell_type": "markdown",
   "metadata": {
    "id": "iVCesB49Gxuz",
    "colab_type": "text"
   },
   "source": [
    "Some languages are older (e.g., C) and other languages are newer (e.g., Swift). The dataset starts in September 2008.\n",
    "\n",
    "**Challenge**: How many months of data exist per language? Which language had the fewest months with an entry? \n"
   ]
  },
  {
   "cell_type": "code",
   "metadata": {
    "id": "hDT4JlJNJfgQ",
    "colab_type": "code",
    "colab": {}
   },
   "source": [
    "df.groupby(\"TAG\")[\"DATE\"].count()"
   ],
   "execution_count": null,
   "outputs": []
  },
  {
   "cell_type": "markdown",
   "metadata": {
    "id": "arguGp3ZGxu1",
    "colab_type": "text"
   },
   "source": [
    "## Data Cleaning\n",
    "\n",
    "Let's fix the date format to make it more readable. We need to use Pandas to change format from a string of \"2008-07-01 00:00:00\" to a datetime object with the format of \"2008-07-01\""
   ]
  },
  {
   "cell_type": "code",
   "metadata": {
    "id": "5nh5a4UtGxu1",
    "colab_type": "code",
    "colab": {}
   },
   "source": [
    "df[\"DATE\"].iloc[1]"
   ],
   "execution_count": null,
   "outputs": []
  },
  {
   "cell_type": "code",
   "metadata": {
    "id": "016H-Fy4Gxu3",
    "colab_type": "code",
    "colab": {}
   },
   "source": [
    "type(df.DATE[1])"
   ],
   "execution_count": null,
   "outputs": []
  },
  {
   "cell_type": "code",
   "metadata": {
    "id": "4EiSd7pdGxu5",
    "colab_type": "code",
    "colab": {}
   },
   "source": [
    "df[\"DATE\"] = pd.to_datetime(df[\"DATE\"])\n",
    "print(type(df[\"DATE\"][1]))\n",
    "df[\"DATE\"]"
   ],
   "execution_count": null,
   "outputs": []
  },
  {
   "cell_type": "markdown",
   "metadata": {
    "id": "rWAV6tuzGxu6",
    "colab_type": "text"
   },
   "source": [
    "## Data Manipulation\n",
    "Can you pivot the df DataFrame so that each row is a date and each column is a programming language? Store the result under a variable called ```reshaped_df```. \n"
   ]
  },
  {
   "cell_type": "code",
   "metadata": {
    "id": "aHhbulJaGxu7",
    "colab_type": "code",
    "colab": {}
   },
   "source": [
    "reshaped_df = df.pivot(index=\"DATE\", columns=\"TAG\", values=\"POSTS\")\n",
    "reshaped_df"
   ],
   "execution_count": null,
   "outputs": []
  },
  {
   "cell_type": "markdown",
   "metadata": {
    "id": "RWKcVIyFKwHM",
    "colab_type": "text"
   },
   "source": [
    "**Challenge**: What are the dimensions of our new dataframe? How many rows and columns does it have? Print out the column names and print out the first 5 rows of the dataframe."
   ]
  },
  {
   "cell_type": "code",
   "metadata": {
    "id": "v-u4FcLXGxu9",
    "colab_type": "code",
    "colab": {}
   },
   "source": [
    "reshaped_df_dimensions = reshaped_df.ndim\n",
    "reshaped_df_shape = reshaped_df.shape\n",
    "print(f\"Reshaped DataFrame Dimensions:  {reshaped_df_dimensions}\")\n",
    "print(f\"Reshaped DataFrame Shape: {reshaped_df_shape}\")"
   ],
   "execution_count": null,
   "outputs": []
  },
  {
   "cell_type": "code",
   "execution_count": null,
   "outputs": [],
   "source": [
    "reshaped_df.head()"
   ],
   "metadata": {
    "collapsed": false
   }
  },
  {
   "cell_type": "code",
   "execution_count": null,
   "outputs": [],
   "source": [
    "reshaped_df.tail()"
   ],
   "metadata": {
    "collapsed": false
   }
  },
  {
   "cell_type": "markdown",
   "metadata": {
    "id": "BoDCuRU0GxvC",
    "colab_type": "text"
   },
   "source": [
    "**Challenge**: Count the number of entries per programming language. Why might the number of entries be different? "
   ]
  },
  {
   "cell_type": "code",
   "metadata": {
    "id": "-peEFgaMGxvE",
    "colab_type": "code",
    "colab": {}
   },
   "source": [
    "reshaped_df.count()"
   ],
   "execution_count": null,
   "outputs": []
  },
  {
   "cell_type": "code",
   "metadata": {
    "id": "01f2BCF8GxvG",
    "colab_type": "code",
    "colab": {}
   },
   "source": [
    "reshaped_df.columns"
   ],
   "execution_count": null,
   "outputs": []
  },
  {
   "cell_type": "code",
   "metadata": {
    "id": "KooRRxAdGxvI",
    "colab_type": "code",
    "colab": {}
   },
   "source": [
    "reshaped_df.fillna(value=0, inplace=True)  # Filling the NaN (Not a Number) cell values with zero and applying changes.\n",
    "reshaped_df.head()"
   ],
   "execution_count": null,
   "outputs": []
  },
  {
   "cell_type": "markdown",
   "source": [
    "### Check for NaN Values"
   ],
   "metadata": {
    "collapsed": false
   }
  },
  {
   "cell_type": "code",
   "execution_count": null,
   "outputs": [],
   "source": [
    "reshaped_df.isna().values.any()\n",
    "# Now we're all set to create some charts and visualise our data. For all of that and more, I'll see you in the next lesson!"
   ],
   "metadata": {
    "collapsed": false
   }
  },
  {
   "cell_type": "markdown",
   "metadata": {
    "id": "8xU7l_f4GxvK",
    "colab_type": "text"
   },
   "source": [
    "## Data Visualisaton with with Matplotlib\n"
   ]
  },
  {
   "cell_type": "markdown",
   "metadata": {
    "id": "njnNXTlhGxvK",
    "colab_type": "text"
   },
   "source": [
    "**Challenge**: Use the [matplotlib documentation](https://matplotlib.org/3.2.1/api/_as_gen/matplotlib.pyplot.plot.html#matplotlib.pyplot.plot) to plot a single programming language (e.g., java) on a chart."
   ]
  },
  {
   "cell_type": "code",
   "metadata": {
    "id": "S0OS8T8iGxvL",
    "colab_type": "code",
    "colab": {}
   },
   "source": [
    "import matplotlib.pyplot as plt"
   ],
   "execution_count": null,
   "outputs": []
  },
  {
   "cell_type": "code",
   "metadata": {
    "id": "EU6AV1l9GxvM",
    "colab_type": "code",
    "colab": {}
   },
   "source": [
    "# Plotting java\n",
    "plt.plot(reshaped_df.index, reshaped_df[\"java\"])"
   ],
   "execution_count": null,
   "outputs": []
  },
  {
   "cell_type": "markdown",
   "source": [
    "## Styling the Chart\n",
    "\n",
    "Let's look at a couple of methods that will help us style our chart:\n",
    "\n",
    "* ```.figure()``` - allows us to resize our chart\n",
    "\n",
    "* ```.xticks()``` - configures our x-axis\n",
    "\n",
    "* ```.yticks()``` - configures our y-axis\n",
    "\n",
    "* ```.xlabel()``` - add text to the x-axis\n",
    "\n",
    "* ```.ylabel()``` - add text to the y-axis\n",
    "\n",
    "* ```.ylim()``` - allows us to set a lower and upper bound\n",
    "\n"
   ],
   "metadata": {
    "collapsed": false
   }
  },
  {
   "cell_type": "markdown",
   "source": [
    "### To make our chart larger we can provide a width (16) and a height (10) as the ```figsize``` of the figure.\n",
    "This will make our chart easier to see. But when we increase the size of the chart, we should also increase the fontsize of the ticks on our axes so that they remain easy to read:"
   ],
   "metadata": {
    "collapsed": false
   }
  },
  {
   "cell_type": "code",
   "execution_count": null,
   "outputs": [],
   "source": [
    "plt.figure(figsize=(16,10)) \n",
    "plt.plot(reshaped_df.index, reshaped_df.java)"
   ],
   "metadata": {
    "collapsed": false
   }
  },
  {
   "cell_type": "markdown",
   "metadata": {
    "id": "Sm2DL5tZGxvQ",
    "colab_type": "text"
   },
   "source": [
    "**Challenge**: Show two line (e.g. for Java and Python) on the same chart."
   ]
  },
  {
   "cell_type": "code",
   "metadata": {
    "id": "T-0vClQSGxvQ",
    "colab_type": "code",
    "colab": {}
   },
   "source": [
    "plt.plot(reshaped_df[\"java\"], reshaped_df[\"python\"])"
   ],
   "execution_count": null,
   "outputs": []
  },
  {
   "cell_type": "markdown",
   "source": [
    "### Now we can add labels. Also, we're never going to get less than 0 posts, so let's set a lower limit of 0 for the y-axis with ```.ylim()```.\n",
    "Challenge: Try to plot both python and java together?"
   ],
   "metadata": {
    "collapsed": false
   }
  },
  {
   "cell_type": "code",
   "execution_count": null,
   "outputs": [],
   "source": [
    "plt.figure(figsize=(16,10)) \n",
    "plt.xticks(fontsize=14)\n",
    "plt.yticks(fontsize=14)\n",
    "plt.xlabel(\"Date\", fontsize=14)\n",
    "plt.ylabel(\"Number of Posts\", fontsize=14)\n",
    "plt.ylim(0, 35000)\n",
    "plt.plot(reshaped_df.index, reshaped_df.java, label=\"Java\")\n",
    "plt.plot(reshaped_df.index, reshaped_df.python, label=\"Python\")\n",
    "plt.legend(loc=\"upper left\")"
   ],
   "metadata": {
    "collapsed": false
   }
  },
  {
   "cell_type": "markdown",
   "source": [
    "### What if we wanted to plot all programming languages?\n"
   ],
   "metadata": {
    "collapsed": false
   }
  },
  {
   "cell_type": "code",
   "execution_count": null,
   "outputs": [],
   "source": [
    "plt.figure(figsize=(16,10)) \n",
    "plt.xticks(fontsize=14)\n",
    "plt.yticks(fontsize=14)\n",
    "plt.xlabel(\"Date\", fontsize=14)\n",
    "plt.ylabel(\"Number of Posts\", fontsize=14)\n",
    "plt.ylim(0, 35000)\n",
    "for col in reshaped_df.columns:\n",
    "    plt.plot(reshaped_df.index, reshaped_df[col], label=f\"{col}\", linewidth=3)\n",
    "    plt.legend()"
   ],
   "metadata": {
    "collapsed": false
   }
  },
  {
   "cell_type": "markdown",
   "metadata": {
    "id": "3jSjfPy7GxvY",
    "colab_type": "text"
   },
   "source": [
    "# Smoothing out Time Series Data\n",
    "\n",
    "Time series data can be quite noisy, with a lot of up and down spikes. To better see a trend we can plot an average of, say 6 or 12 observations. This is called the rolling mean. We calculate the average in a window of time and move it forward by one overservation. Pandas has two handy methods already built in to work this out: [rolling()](https://pandas.pydata.org/pandas-docs/stable/reference/api/pandas.DataFrame.rolling.html) and [mean()](https://pandas.pydata.org/pandas-docs/stable/reference/api/pandas.core.window.rolling.Rolling.mean.html). "
   ]
  },
  {
   "cell_type": "code",
   "metadata": {
    "id": "s3WYd3OgGxvc",
    "colab_type": "code",
    "colab": {}
   },
   "source": [
    "# The window is number of observations that are averaged\n",
    "roll_df = reshaped_df.rolling(window=12).mean()\n",
    " \n",
    "plt.figure(figsize=(16,10))\n",
    "plt.xticks(fontsize=14)\n",
    "plt.yticks(fontsize=14)\n",
    "plt.xlabel('Date', fontsize=14)\n",
    "plt.ylabel('Number of Posts', fontsize=14)\n",
    "plt.ylim(0, 35000)\n",
    " \n",
    "# plot the roll_df instead\n",
    "for column in roll_df.columns:\n",
    "    plt.plot(roll_df.index, roll_df[column], \n",
    "             linewidth=3, label=roll_df[column].name)\n",
    " \n",
    "plt.legend(fontsize=16)"
   ],
   "execution_count": null,
   "outputs": []
  },
  {
   "cell_type": "code",
   "metadata": {
    "id": "WMJOX8Y2Gxvd",
    "colab_type": "code",
    "colab": {}
   },
   "source": [],
   "execution_count": null,
   "outputs": []
  },
  {
   "cell_type": "code",
   "metadata": {
    "id": "fAvvarA7Gxvf",
    "colab_type": "code",
    "colab": {}
   },
   "source": [],
   "execution_count": null,
   "outputs": []
  },
  {
   "cell_type": "code",
   "metadata": {
    "id": "Gm0Ww0S4Gxvg",
    "colab_type": "code",
    "colab": {}
   },
   "source": [],
   "execution_count": null,
   "outputs": []
  }
 ]
}
