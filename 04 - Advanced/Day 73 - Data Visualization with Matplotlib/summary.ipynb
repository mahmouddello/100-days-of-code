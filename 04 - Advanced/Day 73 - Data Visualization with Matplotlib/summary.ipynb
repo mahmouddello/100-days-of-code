{
 "cells": [
  {
   "cell_type": "markdown",
   "source": [],
   "metadata": {
    "collapsed": false
   },
   "id": "7532faee4dc3a036"
  },
  {
   "cell_type": "markdown",
   "source": [
    "# Learning Points & Summary\n",
    "Congratulations on completing another challenging data science project! Today we've seen how to grab some raw data and create some interesting charts using Pandas and Matplotlib. We've\n",
    "\n",
    "used ```.groupby()``` to explore the number of posts and entries per programming language\n",
    "\n",
    "converted strings to Datetime objects with ```to_datetime()``` for easier plotting\n",
    "\n",
    "reshaped our DataFrame by converting categories to columns using ```.pivot()```\n",
    "\n",
    "used ```.count()``` and ```isna().values.any()``` to look for ```NaN``` values in our DataFrame, which we then replaced using\n",
    "```.fillna()```\n",
    "\n",
    "created (multiple) line charts using ```.plot()``` with a ```for-loop```\n",
    "\n",
    "styled our charts by changing the size, the labels, and the upper and lower bounds of our axis.\n",
    "\n",
    "added a legend to tell apart which line is which by colour\n",
    "\n",
    "smoothed out our time-series observations with ```.rolling().mean()``` and plotted them to better identify trends over time.\n",
    "\n",
    "\n",
    "\n",
    "Well done for completing today's lessons! Have a good rest. I'll see you tomorrow! "
   ],
   "metadata": {
    "collapsed": false
   },
   "id": "c61f5e0f7c0ef590"
  },
  {
   "cell_type": "code",
   "execution_count": null,
   "outputs": [],
   "source": [],
   "metadata": {
    "collapsed": false
   },
   "id": "e64423502ba39961"
  }
 ],
 "metadata": {
  "kernelspec": {
   "display_name": "Python 3",
   "language": "python",
   "name": "python3"
  },
  "language_info": {
   "codemirror_mode": {
    "name": "ipython",
    "version": 2
   },
   "file_extension": ".py",
   "mimetype": "text/x-python",
   "name": "python",
   "nbconvert_exporter": "python",
   "pygments_lexer": "ipython2",
   "version": "2.7.6"
  }
 },
 "nbformat": 4,
 "nbformat_minor": 5
}
