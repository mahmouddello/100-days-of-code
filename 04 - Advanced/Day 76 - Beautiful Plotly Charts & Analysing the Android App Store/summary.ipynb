{
 "cells": [
  {
   "cell_type": "markdown",
   "source": [
    "In this lesson we looked at how to:\n",
    "\n",
    "* Pull a random sample from a DataFrame using .sample()\n",
    "\n",
    "* How to find duplicate entries with .duplicated() and .drop_duplicates()\n",
    "\n",
    "* How to convert string and object data types into numbers with .to_numeric()\n",
    "\n",
    "* How to use plotly to generate beautiful pie, donut, and bar charts as well as box and scatter plots\n",
    "\n",
    "\n",
    "\n",
    "You can download the completed code for today in this lesson.\n",
    "\n",
    "\n",
    "\n",
    "Well done on completing today's lessons! 👏👏👏 I hope you enjoyed today’s Google Play Store analysis. It's incredible how much more of a clear picture we can get about the app ecosystem just by looking into some scraped website data for the Google Play Store."
   ],
   "metadata": {
    "collapsed": false
   },
   "id": "b7ba720ea0ac601d"
  },
  {
   "cell_type": "code",
   "execution_count": null,
   "outputs": [],
   "source": [],
   "metadata": {
    "collapsed": false
   },
   "id": "13a316b9fc62435"
  }
 ],
 "metadata": {
  "kernelspec": {
   "display_name": "Python 3",
   "language": "python",
   "name": "python3"
  },
  "language_info": {
   "codemirror_mode": {
    "name": "ipython",
    "version": 2
   },
   "file_extension": ".py",
   "mimetype": "text/x-python",
   "name": "python",
   "nbconvert_exporter": "python",
   "pygments_lexer": "ipython2",
   "version": "2.7.6"
  }
 },
 "nbformat": 4,
 "nbformat_minor": 5
}
