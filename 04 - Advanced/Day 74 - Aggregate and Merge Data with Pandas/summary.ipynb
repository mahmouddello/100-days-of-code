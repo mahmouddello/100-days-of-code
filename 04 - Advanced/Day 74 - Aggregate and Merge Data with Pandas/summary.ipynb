{
 "cells": [
  {
   "cell_type": "markdown",
   "source": [
    "# Learning Points & Summary\n",
    "In this lesson we looked at how to:\n",
    "\n",
    "use HTML Markdown in Notebooks, such as section headings ```#```and how to embed images with the ```<img>``` tag.\n",
    "\n",
    "combine the ```groupby()``` and ```count()``` functions to aggregate data\n",
    "\n",
    "use the ```.value_counts()``` function\n",
    "\n",
    "slice DataFrames using the square bracket notation e.g., ```df[:-2]``` or ```df[:10]```\n",
    "\n",
    "use the ```.agg()``` function to run an operation on a particular column\n",
    "\n",
    "```rename()``` columns of DataFrames\n",
    "\n",
    "create a line chart with two separate axes to visualise data that have different scales.\n",
    "\n",
    "create a scatter plot in Matplotlib\n",
    "\n",
    "work with tables in a relational database by using primary and foreign keys\n",
    "\n",
    "```.merge()``` DataFrames along a particular column\n",
    "\n",
    "create a bar chart with Matplotlib\n",
    "\n",
    "\n",
    "\n",
    "You can download the completed code for today in this lesson.\n",
    "\n",
    "\n",
    "\n",
    "Today was another super packed day. I hope you found digging into LEGOs product catalogue as fascinating as I have. Have a good rest and I'll see you tomorrow! 💪"
   ],
   "metadata": {
    "collapsed": false
   },
   "id": "43cc8d74bf429359"
  }
 ],
 "metadata": {
  "kernelspec": {
   "display_name": "Python 3",
   "language": "python",
   "name": "python3"
  },
  "language_info": {
   "codemirror_mode": {
    "name": "ipython",
    "version": 2
   },
   "file_extension": ".py",
   "mimetype": "text/x-python",
   "name": "python",
   "nbconvert_exporter": "python",
   "pygments_lexer": "ipython2",
   "version": "2.7.6"
  }
 },
 "nbformat": 4,
 "nbformat_minor": 5
}
