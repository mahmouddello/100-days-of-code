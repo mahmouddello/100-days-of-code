{
 "cells": [
  {
   "cell_type": "markdown",
   "source": [
    "# Final\n",
    "Today's Learning Points\n",
    "\n",
    "\n",
    "\n",
    "* Use .head(), .tail(), .shape and .columns to explore your DataFrame and find out the number of rows and columns as well as the column names.\n",
    "\n",
    "* Look for NaN (not a number) values with .findna() and consider using .dropna() to clean up your DataFrame.\n",
    "\n",
    "* You can access entire columns of a DataFrame using the square bracket notation: ```df['column name']``` or ```df[['column name 1', 'column name 2', 'column name 3']]```\n",
    "\n",
    "* You can access individual cells in a DataFrame by chaining square brackets ```df['column name'][index]``` or using ```df['column name'].loc[index]```\n",
    "\n",
    "* The largest and smallest values, as well as their positions, can be found with methods like ```.max(), .min(), .idxmax()``` and .```idxmin()```\n",
    "\n",
    "* You can sort the DataFrame with ```.sort_values()``` and add new columns with ```.insert()```\n",
    "\n",
    "* To create an Excel Style Pivot Table by grouping entries that belong to a particular category use the ```.groupby()``` method"
   ],
   "metadata": {
    "collapsed": false
   },
   "id": "f30ecf81bc2112ac"
  },
  {
   "cell_type": "code",
   "execution_count": null,
   "outputs": [],
   "source": [],
   "metadata": {
    "collapsed": false
   },
   "id": "2e54404b09919173"
  }
 ],
 "metadata": {
  "kernelspec": {
   "display_name": "Python 3",
   "language": "python",
   "name": "python3"
  },
  "language_info": {
   "codemirror_mode": {
    "name": "ipython",
    "version": 2
   },
   "file_extension": ".py",
   "mimetype": "text/x-python",
   "name": "python",
   "nbconvert_exporter": "python",
   "pygments_lexer": "ipython2",
   "version": "2.7.6"
  }
 },
 "nbformat": 4,
 "nbformat_minor": 5
}
