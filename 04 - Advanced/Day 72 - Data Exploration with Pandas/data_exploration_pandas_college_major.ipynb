{
 "cells": [
  {
   "cell_type": "code",
   "execution_count": null,
   "id": "initial_id",
   "metadata": {},
   "outputs": [],
   "source": [
    "import pandas as pd\n",
    "import numpy as np\n",
    "pd.options.display.float_format = '{:,.2f}'.format "
   ]
  },
  {
   "cell_type": "code",
   "execution_count": null,
   "id": "d1bc5eb8a7b6446d",
   "metadata": {
    "collapsed": false
   },
   "outputs": [],
   "source": [
    "# Load CSV File\n",
    "df = pd.read_csv(\"salaries_by_college_major.csv\")"
   ]
  },
  {
   "cell_type": "markdown",
   "id": "916ab482-1d9b-4c21-8c16-250638e44311",
   "metadata": {},
   "source": [
    "# Quick look at the DataFrame"
   ]
  },
  {
   "cell_type": "code",
   "execution_count": null,
   "id": "3db7e1d3074680cf",
   "metadata": {
    "collapsed": false
   },
   "outputs": [],
   "source": [
    "df.head()"
   ]
  },
  {
   "cell_type": "markdown",
   "id": "666cdde0-e5ed-4c6d-b378-ed90787f907f",
   "metadata": {},
   "source": [
    "# Answer This Questions\n",
    "Now that we've got our data loaded into our dataframe, we need to take a closer look at it to help us understand what it is we are working with. This is always the first step with any data science project. Let's see if we can answer the following questions: \n",
    "\n",
    "* How many rows does our dataframe have?  \n",
    "* How many columns does it have? \n",
    "* What are the labels for the columns? Do the columns have names? \n",
    "* Are there any missing values in our dataframe? Does our dataframe contain any bad data?"
   ]
  },
  {
   "cell_type": "code",
   "execution_count": null,
   "id": "5d85365bc92c7756",
   "metadata": {
    "collapsed": false
   },
   "outputs": [],
   "source": [
    "df.shape"
   ]
  },
  {
   "cell_type": "code",
   "execution_count": null,
   "id": "e6ebcd737932f1c",
   "metadata": {
    "collapsed": false
   },
   "outputs": [],
   "source": [
    "# 51 rows and 6 columns, lets take a look at the column names\n",
    "df.columns"
   ]
  },
  {
   "cell_type": "markdown",
   "id": "ccb1f964-901c-44d5-96ef-719acf199308",
   "metadata": {},
   "source": [
    "# Missing Values and Junk Data\n",
    "Before we can proceed with our analysis we should try and figure out if there are any missing or junk data in our dataframe. \n",
    "That way we can avoid problems later on. In this case, we're going to look for NaN (Not A Number) values in our dataframe. \n",
    "NAN values are blank cells or cells that contain strings instead of numbers. \n",
    "Use the .isna() method and see if you can spot if there's a problem somewhere."
   ]
  },
  {
   "cell_type": "code",
   "execution_count": null,
   "id": "ec831635b4af818",
   "metadata": {
    "collapsed": false
   },
   "outputs": [],
   "source": [
    "df.isna"
   ]
  },
  {
   "cell_type": "code",
   "execution_count": null,
   "id": "c0dfe9c9b01efe8d",
   "metadata": {
    "collapsed": false
   },
   "outputs": [],
   "source": [
    "# Did you find anything? Check the last couple of rows in the dataframe:\n",
    "df.tail()"
   ]
  },
  {
   "cell_type": "code",
   "execution_count": null,
   "id": "5ec5e81a130a15d5",
   "metadata": {
    "collapsed": false
   },
   "outputs": [],
   "source": [
    "# Aha! We have a row that contains some information regarding the source of the data with blank values for all the other columns."
   ]
  },
  {
   "cell_type": "code",
   "execution_count": null,
   "id": "608dff82b0405663",
   "metadata": {
    "collapsed": false
   },
   "outputs": [],
   "source": [
    "# Delete the Last Row\n",
    "clean_df = df.dropna()\n",
    "clean_df.tail()"
   ]
  },
  {
   "cell_type": "markdown",
   "id": "d86cd1dbcaa89a04",
   "metadata": {
    "collapsed": false
   },
   "source": [
    "# Accessing Columns and Individual Cells in a Dataframe\n",
    "Find College Major with Highest Starting Salaries\n",
    "\n",
    "To access a particular column from a data frame we can use the square bracket notation, like so:\n",
    "\n",
    "```clean_df['Starting Median Salary']```\n",
    "\n",
    "You should see all the values printed out below the cell for just this column:"
   ]
  },
  {
   "cell_type": "code",
   "execution_count": null,
   "id": "f599de167f4aadfa",
   "metadata": {
    "collapsed": false
   },
   "outputs": [],
   "source": [
    "clean_df[\"Starting Median Salary\"]"
   ]
  },
  {
   "cell_type": "markdown",
   "source": [
    "## To find the highest starting salary we can simply chain the .max() method."
   ],
   "metadata": {
    "collapsed": false
   },
   "id": "afb2d1c17e78159d"
  },
  {
   "cell_type": "code",
   "execution_count": null,
   "id": "4a1278dcfd906cf3",
   "metadata": {
    "collapsed": false
   },
   "outputs": [],
   "source": [
    "clean_df[\"Starting Median Salary\"].max()"
   ]
  },
  {
   "cell_type": "markdown",
   "source": [
    "## The highest starting salary is $74,300. But which college major earns this much on average? For this, \n",
    "## we need to know the row number or index so that we can look up the name of the major. Lucky for us, the ```.idxmax()``` method will \n",
    "## give us index for the row with the largest value."
   ],
   "metadata": {
    "collapsed": false
   },
   "id": "820fd84ae9e2fb27"
  },
  {
   "cell_type": "code",
   "execution_count": null,
   "id": "b26c2231c12aa364",
   "metadata": {
    "collapsed": false
   },
   "outputs": [],
   "source": [
    "# which is 43. To see the name of the major that corresponds to that particular row, we can use the .loc (location) property.\n",
    "clean_df[\"Undergraduate Major\"].loc[clean_df[\"Starting Median Salary\"].idxmax()]"
   ]
  },
  {
   "cell_type": "markdown",
   "id": "a836f4a8d9d8988e",
   "metadata": {
    "collapsed": false
   },
   "source": [
    "# Challenges\n",
    "Now that we've found the major with the highest starting salary, can you write the code to find the following:\n",
    "\n",
    "* What college major has the highest mid-career salary? How much do graduates with this major earn? (Mid-career is defined as having 10+ years of experience).\n",
    "\n",
    "* Which college major has the lowest starting salary and how much do graduates from earn after university?\n",
    "\n",
    "* Which college major has the lowest mid-career salary and how much can people expect to earn with this degree? "
   ]
  },
  {
   "cell_type": "code",
   "execution_count": null,
   "id": "4adb9c4e6bc8b755",
   "metadata": {
    "collapsed": false
   },
   "outputs": [],
   "source": [
    "# Highest mid-career salary major \n",
    "# First we selected the major column, then we get the id of heights salary and pass it with loc, so we can select only the name of major\n",
    "clean_df[\"Undergraduate Major\"].loc[clean_df[\"Mid-Career Median Salary\"].idxmax()]"
   ]
  },
  {
   "cell_type": "code",
   "execution_count": null,
   "outputs": [],
   "source": [
    "# Which college major has the lowest starting salary and how much do graduates from earn after university?\n",
    "clean_df[\"Undergraduate Major\"].loc[clean_df[\"Starting Median Salary\"].idxmin()]"
   ],
   "metadata": {
    "collapsed": false
   },
   "id": "80878799c4e17fa4"
  },
  {
   "cell_type": "code",
   "execution_count": null,
   "outputs": [],
   "source": [
    "clean_df[clean_df[\"Undergraduate Major\"] == \"Spanish\"][[\"Undergraduate Major\", \"Starting Median Salary\"]]"
   ],
   "metadata": {
    "collapsed": false
   },
   "id": "6678b0a21736cc95"
  },
  {
   "cell_type": "code",
   "execution_count": null,
   "outputs": [],
   "source": [
    "# Which college major has the lowest mid-career salary and how much can people expect to earn with this degree?\n",
    "clean_df[\"Undergraduate Major\"].loc[clean_df[\"Mid-Career Median Salary\"].idxmin()]"
   ],
   "metadata": {
    "collapsed": false
   },
   "id": "ca6358e9bcedda4e"
  },
  {
   "cell_type": "code",
   "execution_count": null,
   "outputs": [],
   "source": [
    "clean_df[clean_df[\"Undergraduate Major\"] == \"Education\"][[\"Undergraduate Major\", \"Mid-Career Median Salary\"]]"
   ],
   "metadata": {
    "collapsed": false
   },
   "id": "828d14d244663b59"
  },
  {
   "cell_type": "code",
   "execution_count": null,
   "outputs": [],
   "source": [
    "spread_col = clean_df['Mid-Career 90th Percentile Salary'] - clean_df['Mid-Career 10th Percentile Salary']\n",
    "# inserts column to the dataframe\n",
    "# clean_df.insert(loc=1, column=\"Spread\", value=spread_col) \n",
    "clean_df"
   ],
   "metadata": {
    "collapsed": false
   },
   "id": "675ca0a0d0d36dde"
  },
  {
   "cell_type": "code",
   "execution_count": null,
   "outputs": [],
   "source": [
    "low_risk = clean_df[\"Spread\"]\n",
    "low_risk.sort_values(ascending=False)"
   ],
   "metadata": {
    "collapsed": false
   },
   "id": "93d18e5835fcc3a9"
  },
  {
   "cell_type": "markdown",
   "source": [
    "## Challenge\n",
    "\n",
    "\n",
    "* Using the .sort_values() method, can you find the degrees with the highest potential? Find the top 5 degrees with the highest values in the 90th percentile. \n",
    "\n",
    "* Also, find the degrees with the greatest spread in salaries. Which majors have the largest difference between high and low earners after graduation.\n"
   ],
   "metadata": {
    "collapsed": false
   },
   "id": "d0c14b468d192c29"
  },
  {
   "cell_type": "code",
   "execution_count": null,
   "outputs": [],
   "source": [
    "# find the degrees with the highest potential? Find the top 5 degrees with the highest values in the 90th percentile. \n",
    "highest_potential = clean_df.sort_values(\"Mid-Career 90th Percentile Salary\", ascending=False)\n",
    "highest_potential[[\"Undergraduate Major\", \"Mid-Career 90th Percentile Salary\"]].head()"
   ],
   "metadata": {
    "collapsed": false
   },
   "id": "b7ea8583bd0ce03d"
  },
  {
   "cell_type": "code",
   "execution_count": null,
   "outputs": [],
   "source": [
    "# find the degrees with the greatest spread in salaries. Which majors have the largest difference between high and low earners after graduation\n",
    "greatest_spread = clean_df.sort_values(\"Spread\", ascending=False)\n",
    "greatest_spread[[\"Undergraduate Major\", \"Spread\"]].head()"
   ],
   "metadata": {
    "collapsed": false
   },
   "id": "bffeb47d5546933b"
  },
  {
   "cell_type": "markdown",
   "source": [
    "## Grouping and Pivoting Data with Pandas\n",
    "* Often times you will want to sum rows that belong to a particular category. For example, which category of degrees has the highest average salary? Is it STEM, Business or HASS (Humanities, Arts, and Social Science)? \n",
    "\n",
    "* To answer this question we need to learn to use the ```.groupby()``` method. This allows us to manipulate data similar to a Microsoft Excel Pivot Table.\n",
    "\n",
    "* We have three categories in the 'Group' column: STEM, HASS and Business. Let's count how many majors we have in each category:"
   ],
   "metadata": {
    "collapsed": false
   },
   "id": "560005c9b0b21a5b"
  },
  {
   "cell_type": "code",
   "execution_count": null,
   "outputs": [],
   "source": [
    "numeric_columns = clean_df.select_dtypes(include=[np.number])\n",
    "clean_df.groupby(\"Group\")[numeric_columns.columns].mean()  # apply the mean to all numeric columns"
   ],
   "metadata": {
    "collapsed": false
   },
   "id": "60587fda9f01eab9"
  }
 ],
 "metadata": {
  "kernelspec": {
   "display_name": "Python 3 (ipykernel)",
   "language": "python",
   "name": "python3"
  },
  "language_info": {
   "codemirror_mode": {
    "name": "ipython",
    "version": 3
   },
   "file_extension": ".py",
   "mimetype": "text/x-python",
   "name": "python",
   "nbconvert_exporter": "python",
   "pygments_lexer": "ipython3",
   "version": "3.11.4"
  }
 },
 "nbformat": 4,
 "nbformat_minor": 5
}
