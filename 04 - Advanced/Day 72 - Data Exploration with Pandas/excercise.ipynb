{
 "cells": [
  {
   "cell_type": "code",
   "execution_count": 88,
   "id": "initial_id",
   "metadata": {
    "collapsed": true,
    "ExecuteTime": {
     "end_time": "2023-08-13T09:27:50.814244200Z",
     "start_time": "2023-08-13T09:27:50.780998200Z"
    }
   },
   "outputs": [],
   "source": [
    "import pandas as pd\n",
    "import re"
   ]
  },
  {
   "cell_type": "code",
   "execution_count": 96,
   "outputs": [],
   "source": [
    "html_tables = pd.read_html(\"https://www.payscale.com/college-salary-report/majors-that-pay-you-back/bachelors\")"
   ],
   "metadata": {
    "collapsed": false,
    "ExecuteTime": {
     "end_time": "2023-08-13T09:33:55.452973700Z",
     "start_time": "2023-08-13T09:33:54.851185400Z"
    }
   },
   "id": "3dfc4abead74ca9c"
  },
  {
   "cell_type": "code",
   "execution_count": 160,
   "outputs": [
    {
     "data": {
      "text/plain": "     Rank                                              Major  \\\n0  Rank:1                        Major:Petroleum Engineering   \n1  Rank:2  Major:Operations Research & Industrial Enginee...   \n2  Rank:3  Major:Electrical Engineering & Computer Scienc...   \n3  Rank:4                           Major:Interaction Design   \n4  Rank:5                            Major:Public Accounting   \n\n             Degree Type          Early Career Pay           Mid-Career Pay   \\\n0  Degree Type:Bachelors   Early Career Pay:$93,200  Mid-Career Pay:$187,300   \n1  Degree Type:Bachelors   Early Career Pay:$84,800  Mid-Career Pay:$170,400   \n2  Degree Type:Bachelors  Early Career Pay:$108,500  Mid-Career Pay:$159,300   \n3  Degree Type:Bachelors   Early Career Pay:$68,300  Mid-Career Pay:$155,800   \n4  Degree Type:Bachelors   Early Career Pay:$59,800  Mid-Career Pay:$147,700   \n\n      % High Meaning   \n0  % High Meaning:67%  \n1  % High Meaning:28%  \n2  % High Meaning:46%  \n3  % High Meaning:55%  \n4  % High Meaning:47%  ",
      "text/html": "<div>\n<style scoped>\n    .dataframe tbody tr th:only-of-type {\n        vertical-align: middle;\n    }\n\n    .dataframe tbody tr th {\n        vertical-align: top;\n    }\n\n    .dataframe thead th {\n        text-align: right;\n    }\n</style>\n<table border=\"1\" class=\"dataframe\">\n  <thead>\n    <tr style=\"text-align: right;\">\n      <th></th>\n      <th>Rank</th>\n      <th>Major</th>\n      <th>Degree Type</th>\n      <th>Early Career Pay</th>\n      <th>Mid-Career Pay</th>\n      <th>% High Meaning</th>\n    </tr>\n  </thead>\n  <tbody>\n    <tr>\n      <th>0</th>\n      <td>Rank:1</td>\n      <td>Major:Petroleum Engineering</td>\n      <td>Degree Type:Bachelors</td>\n      <td>Early Career Pay:$93,200</td>\n      <td>Mid-Career Pay:$187,300</td>\n      <td>% High Meaning:67%</td>\n    </tr>\n    <tr>\n      <th>1</th>\n      <td>Rank:2</td>\n      <td>Major:Operations Research &amp; Industrial Enginee...</td>\n      <td>Degree Type:Bachelors</td>\n      <td>Early Career Pay:$84,800</td>\n      <td>Mid-Career Pay:$170,400</td>\n      <td>% High Meaning:28%</td>\n    </tr>\n    <tr>\n      <th>2</th>\n      <td>Rank:3</td>\n      <td>Major:Electrical Engineering &amp; Computer Scienc...</td>\n      <td>Degree Type:Bachelors</td>\n      <td>Early Career Pay:$108,500</td>\n      <td>Mid-Career Pay:$159,300</td>\n      <td>% High Meaning:46%</td>\n    </tr>\n    <tr>\n      <th>3</th>\n      <td>Rank:4</td>\n      <td>Major:Interaction Design</td>\n      <td>Degree Type:Bachelors</td>\n      <td>Early Career Pay:$68,300</td>\n      <td>Mid-Career Pay:$155,800</td>\n      <td>% High Meaning:55%</td>\n    </tr>\n    <tr>\n      <th>4</th>\n      <td>Rank:5</td>\n      <td>Major:Public Accounting</td>\n      <td>Degree Type:Bachelors</td>\n      <td>Early Career Pay:$59,800</td>\n      <td>Mid-Career Pay:$147,700</td>\n      <td>% High Meaning:47%</td>\n    </tr>\n  </tbody>\n</table>\n</div>"
     },
     "execution_count": 160,
     "metadata": {},
     "output_type": "execute_result"
    }
   ],
   "source": [
    "df = html_tables[0].copy()\n",
    "df.columns = [column.split(\".\")[0].removesuffix(\" \") for column in df.columns]\n",
    "df.head()"
   ],
   "metadata": {
    "collapsed": false,
    "ExecuteTime": {
     "end_time": "2023-08-13T10:06:28.008216100Z",
     "start_time": "2023-08-13T10:06:27.998209Z"
    }
   },
   "id": "f15e0d8f5cb64d1b"
  },
  {
   "cell_type": "code",
   "execution_count": 173,
   "outputs": [],
   "source": [
    "df[\"% High Meaning \"] = df[\"% High Meaning \"].str.replace(\"% High Meaning:\", \"\")"
   ],
   "metadata": {
    "collapsed": false,
    "ExecuteTime": {
     "end_time": "2023-08-13T10:08:36.098817Z",
     "start_time": "2023-08-13T10:08:36.082177900Z"
    }
   },
   "id": "9652af902e59992a"
  },
  {
   "cell_type": "code",
   "execution_count": 175,
   "outputs": [
    {
     "data": {
      "text/plain": "   Rank                                             Major Degree Type  \\\n0     1                             Petroleum Engineering   Bachelors   \n1     2      Operations Research & Industrial Engineering   Bachelors   \n2     3  Electrical Engineering & Computer Science (EECS)   Bachelors   \n3     4                                Interaction Design   Bachelors   \n4     5                                 Public Accounting   Bachelors   \n5     6                               Operations Research   Bachelors   \n6     7                  Applied Economics and Management   Bachelors   \n7     8                           Business Computing (BC)   Bachelors   \n8     9                             Actuarial Mathematics   Bachelors   \n9    10                      Electrical Power Engineering   Bachelors   \n10   11                    Information & Computer Science   Bachelors   \n11   12                        Aeronautics & Astronautics   Bachelors   \n12   13                               Systems Engineering   Bachelors   \n13   14                                      Econometrics   Bachelors   \n14   15                                          Pharmacy   Bachelors   \n15   16                                 Aerospace Studies   Bachelors   \n16   17                                  Building Science   Bachelors   \n17   17                              Chemical Engineering   Bachelors   \n18   19                                 Cognitive Science   Bachelors   \n19   20                                 Actuarial Science   Bachelors   \n20   21                                 Political Economy   Bachelors   \n21   22                      Computer Systems Engineering   Bachelors   \n22   23           Electrical & Computer Engineering (ECE)   Bachelors   \n23   24               Computer Science (CS) & Engineering   Bachelors   \n24   24                                Marine Engineering   Bachelors   \n\n   Early Career Pay  Mid-Career Pay  % High Meaning   \n0            $93,200        $187,300             67%  \n1            $84,800        $170,400             28%  \n2           $108,500        $159,300             46%  \n3            $68,300        $155,800             55%  \n4            $59,800        $147,700             47%  \n5            $83,500        $147,400             54%  \n6            $66,100        $146,400             67%  \n7            $73,000        $143,600               -  \n8            $64,300        $143,400             51%  \n9            $76,100        $142,600             68%  \n10           $58,600        $140,900             62%  \n11           $77,600        $139,600             56%  \n12           $77,700        $139,200             53%  \n13           $64,200        $139,000             35%  \n14           $68,600        $138,700             78%  \n15           $55,800        $136,600               -  \n16           $53,800        $135,900             53%  \n17           $76,900        $135,900             55%  \n18           $68,700        $135,200             42%  \n19           $67,700        $134,400             43%  \n20           $65,100        $133,500             29%  \n21           $79,000        $133,200             51%  \n22           $78,100        $131,600             49%  \n23           $79,400        $131,300             44%  \n24           $79,900        $131,300             60%  ",
      "text/html": "<div>\n<style scoped>\n    .dataframe tbody tr th:only-of-type {\n        vertical-align: middle;\n    }\n\n    .dataframe tbody tr th {\n        vertical-align: top;\n    }\n\n    .dataframe thead th {\n        text-align: right;\n    }\n</style>\n<table border=\"1\" class=\"dataframe\">\n  <thead>\n    <tr style=\"text-align: right;\">\n      <th></th>\n      <th>Rank</th>\n      <th>Major</th>\n      <th>Degree Type</th>\n      <th>Early Career Pay</th>\n      <th>Mid-Career Pay</th>\n      <th>% High Meaning</th>\n    </tr>\n  </thead>\n  <tbody>\n    <tr>\n      <th>0</th>\n      <td>1</td>\n      <td>Petroleum Engineering</td>\n      <td>Bachelors</td>\n      <td>$93,200</td>\n      <td>$187,300</td>\n      <td>67%</td>\n    </tr>\n    <tr>\n      <th>1</th>\n      <td>2</td>\n      <td>Operations Research &amp; Industrial Engineering</td>\n      <td>Bachelors</td>\n      <td>$84,800</td>\n      <td>$170,400</td>\n      <td>28%</td>\n    </tr>\n    <tr>\n      <th>2</th>\n      <td>3</td>\n      <td>Electrical Engineering &amp; Computer Science (EECS)</td>\n      <td>Bachelors</td>\n      <td>$108,500</td>\n      <td>$159,300</td>\n      <td>46%</td>\n    </tr>\n    <tr>\n      <th>3</th>\n      <td>4</td>\n      <td>Interaction Design</td>\n      <td>Bachelors</td>\n      <td>$68,300</td>\n      <td>$155,800</td>\n      <td>55%</td>\n    </tr>\n    <tr>\n      <th>4</th>\n      <td>5</td>\n      <td>Public Accounting</td>\n      <td>Bachelors</td>\n      <td>$59,800</td>\n      <td>$147,700</td>\n      <td>47%</td>\n    </tr>\n    <tr>\n      <th>5</th>\n      <td>6</td>\n      <td>Operations Research</td>\n      <td>Bachelors</td>\n      <td>$83,500</td>\n      <td>$147,400</td>\n      <td>54%</td>\n    </tr>\n    <tr>\n      <th>6</th>\n      <td>7</td>\n      <td>Applied Economics and Management</td>\n      <td>Bachelors</td>\n      <td>$66,100</td>\n      <td>$146,400</td>\n      <td>67%</td>\n    </tr>\n    <tr>\n      <th>7</th>\n      <td>8</td>\n      <td>Business Computing (BC)</td>\n      <td>Bachelors</td>\n      <td>$73,000</td>\n      <td>$143,600</td>\n      <td>-</td>\n    </tr>\n    <tr>\n      <th>8</th>\n      <td>9</td>\n      <td>Actuarial Mathematics</td>\n      <td>Bachelors</td>\n      <td>$64,300</td>\n      <td>$143,400</td>\n      <td>51%</td>\n    </tr>\n    <tr>\n      <th>9</th>\n      <td>10</td>\n      <td>Electrical Power Engineering</td>\n      <td>Bachelors</td>\n      <td>$76,100</td>\n      <td>$142,600</td>\n      <td>68%</td>\n    </tr>\n    <tr>\n      <th>10</th>\n      <td>11</td>\n      <td>Information &amp; Computer Science</td>\n      <td>Bachelors</td>\n      <td>$58,600</td>\n      <td>$140,900</td>\n      <td>62%</td>\n    </tr>\n    <tr>\n      <th>11</th>\n      <td>12</td>\n      <td>Aeronautics &amp; Astronautics</td>\n      <td>Bachelors</td>\n      <td>$77,600</td>\n      <td>$139,600</td>\n      <td>56%</td>\n    </tr>\n    <tr>\n      <th>12</th>\n      <td>13</td>\n      <td>Systems Engineering</td>\n      <td>Bachelors</td>\n      <td>$77,700</td>\n      <td>$139,200</td>\n      <td>53%</td>\n    </tr>\n    <tr>\n      <th>13</th>\n      <td>14</td>\n      <td>Econometrics</td>\n      <td>Bachelors</td>\n      <td>$64,200</td>\n      <td>$139,000</td>\n      <td>35%</td>\n    </tr>\n    <tr>\n      <th>14</th>\n      <td>15</td>\n      <td>Pharmacy</td>\n      <td>Bachelors</td>\n      <td>$68,600</td>\n      <td>$138,700</td>\n      <td>78%</td>\n    </tr>\n    <tr>\n      <th>15</th>\n      <td>16</td>\n      <td>Aerospace Studies</td>\n      <td>Bachelors</td>\n      <td>$55,800</td>\n      <td>$136,600</td>\n      <td>-</td>\n    </tr>\n    <tr>\n      <th>16</th>\n      <td>17</td>\n      <td>Building Science</td>\n      <td>Bachelors</td>\n      <td>$53,800</td>\n      <td>$135,900</td>\n      <td>53%</td>\n    </tr>\n    <tr>\n      <th>17</th>\n      <td>17</td>\n      <td>Chemical Engineering</td>\n      <td>Bachelors</td>\n      <td>$76,900</td>\n      <td>$135,900</td>\n      <td>55%</td>\n    </tr>\n    <tr>\n      <th>18</th>\n      <td>19</td>\n      <td>Cognitive Science</td>\n      <td>Bachelors</td>\n      <td>$68,700</td>\n      <td>$135,200</td>\n      <td>42%</td>\n    </tr>\n    <tr>\n      <th>19</th>\n      <td>20</td>\n      <td>Actuarial Science</td>\n      <td>Bachelors</td>\n      <td>$67,700</td>\n      <td>$134,400</td>\n      <td>43%</td>\n    </tr>\n    <tr>\n      <th>20</th>\n      <td>21</td>\n      <td>Political Economy</td>\n      <td>Bachelors</td>\n      <td>$65,100</td>\n      <td>$133,500</td>\n      <td>29%</td>\n    </tr>\n    <tr>\n      <th>21</th>\n      <td>22</td>\n      <td>Computer Systems Engineering</td>\n      <td>Bachelors</td>\n      <td>$79,000</td>\n      <td>$133,200</td>\n      <td>51%</td>\n    </tr>\n    <tr>\n      <th>22</th>\n      <td>23</td>\n      <td>Electrical &amp; Computer Engineering (ECE)</td>\n      <td>Bachelors</td>\n      <td>$78,100</td>\n      <td>$131,600</td>\n      <td>49%</td>\n    </tr>\n    <tr>\n      <th>23</th>\n      <td>24</td>\n      <td>Computer Science (CS) &amp; Engineering</td>\n      <td>Bachelors</td>\n      <td>$79,400</td>\n      <td>$131,300</td>\n      <td>44%</td>\n    </tr>\n    <tr>\n      <th>24</th>\n      <td>24</td>\n      <td>Marine Engineering</td>\n      <td>Bachelors</td>\n      <td>$79,900</td>\n      <td>$131,300</td>\n      <td>60%</td>\n    </tr>\n  </tbody>\n</table>\n</div>"
     },
     "execution_count": 175,
     "metadata": {},
     "output_type": "execute_result"
    }
   ],
   "source": [
    "df"
   ],
   "metadata": {
    "collapsed": false,
    "ExecuteTime": {
     "end_time": "2023-08-13T10:08:49.168255100Z",
     "start_time": "2023-08-13T10:08:49.158518600Z"
    }
   },
   "id": "930fdc87a1a4d4c7"
  },
  {
   "cell_type": "code",
   "execution_count": 176,
   "outputs": [
    {
     "data": {
      "text/plain": "   Rank                                             Major Degree Type  \\\n0     1                             Petroleum Engineering   Bachelors   \n1     2      Operations Research & Industrial Engineering   Bachelors   \n2     3  Electrical Engineering & Computer Science (EECS)   Bachelors   \n3     4                                Interaction Design   Bachelors   \n4     5                                 Public Accounting   Bachelors   \n5     6                               Operations Research   Bachelors   \n6     7                  Applied Economics and Management   Bachelors   \n7     8                           Business Computing (BC)   Bachelors   \n8     9                             Actuarial Mathematics   Bachelors   \n9    10                      Electrical Power Engineering   Bachelors   \n10   11                    Information & Computer Science   Bachelors   \n11   12                        Aeronautics & Astronautics   Bachelors   \n12   13                               Systems Engineering   Bachelors   \n13   14                                      Econometrics   Bachelors   \n14   15                                          Pharmacy   Bachelors   \n15   16                                 Aerospace Studies   Bachelors   \n16   17                                  Building Science   Bachelors   \n17   17                              Chemical Engineering   Bachelors   \n18   19                                 Cognitive Science   Bachelors   \n19   20                                 Actuarial Science   Bachelors   \n20   21                                 Political Economy   Bachelors   \n21   22                      Computer Systems Engineering   Bachelors   \n22   23           Electrical & Computer Engineering (ECE)   Bachelors   \n23   24               Computer Science (CS) & Engineering   Bachelors   \n24   24                                Marine Engineering   Bachelors   \n\n   Early Career Pay  Mid-Career Pay  % High Meaning   \n0            $93,200        $187,300             67%  \n1            $84,800        $170,400             28%  \n2           $108,500        $159,300             46%  \n3            $68,300        $155,800             55%  \n4            $59,800        $147,700             47%  \n5            $83,500        $147,400             54%  \n6            $66,100        $146,400             67%  \n7            $73,000        $143,600               -  \n8            $64,300        $143,400             51%  \n9            $76,100        $142,600             68%  \n10           $58,600        $140,900             62%  \n11           $77,600        $139,600             56%  \n12           $77,700        $139,200             53%  \n13           $64,200        $139,000             35%  \n14           $68,600        $138,700             78%  \n15           $55,800        $136,600               -  \n16           $53,800        $135,900             53%  \n17           $76,900        $135,900             55%  \n18           $68,700        $135,200             42%  \n19           $67,700        $134,400             43%  \n20           $65,100        $133,500             29%  \n21           $79,000        $133,200             51%  \n22           $78,100        $131,600             49%  \n23           $79,400        $131,300             44%  \n24           $79,900        $131,300             60%  ",
      "text/html": "<div>\n<style scoped>\n    .dataframe tbody tr th:only-of-type {\n        vertical-align: middle;\n    }\n\n    .dataframe tbody tr th {\n        vertical-align: top;\n    }\n\n    .dataframe thead th {\n        text-align: right;\n    }\n</style>\n<table border=\"1\" class=\"dataframe\">\n  <thead>\n    <tr style=\"text-align: right;\">\n      <th></th>\n      <th>Rank</th>\n      <th>Major</th>\n      <th>Degree Type</th>\n      <th>Early Career Pay</th>\n      <th>Mid-Career Pay</th>\n      <th>% High Meaning</th>\n    </tr>\n  </thead>\n  <tbody>\n    <tr>\n      <th>0</th>\n      <td>1</td>\n      <td>Petroleum Engineering</td>\n      <td>Bachelors</td>\n      <td>$93,200</td>\n      <td>$187,300</td>\n      <td>67%</td>\n    </tr>\n    <tr>\n      <th>1</th>\n      <td>2</td>\n      <td>Operations Research &amp; Industrial Engineering</td>\n      <td>Bachelors</td>\n      <td>$84,800</td>\n      <td>$170,400</td>\n      <td>28%</td>\n    </tr>\n    <tr>\n      <th>2</th>\n      <td>3</td>\n      <td>Electrical Engineering &amp; Computer Science (EECS)</td>\n      <td>Bachelors</td>\n      <td>$108,500</td>\n      <td>$159,300</td>\n      <td>46%</td>\n    </tr>\n    <tr>\n      <th>3</th>\n      <td>4</td>\n      <td>Interaction Design</td>\n      <td>Bachelors</td>\n      <td>$68,300</td>\n      <td>$155,800</td>\n      <td>55%</td>\n    </tr>\n    <tr>\n      <th>4</th>\n      <td>5</td>\n      <td>Public Accounting</td>\n      <td>Bachelors</td>\n      <td>$59,800</td>\n      <td>$147,700</td>\n      <td>47%</td>\n    </tr>\n    <tr>\n      <th>5</th>\n      <td>6</td>\n      <td>Operations Research</td>\n      <td>Bachelors</td>\n      <td>$83,500</td>\n      <td>$147,400</td>\n      <td>54%</td>\n    </tr>\n    <tr>\n      <th>6</th>\n      <td>7</td>\n      <td>Applied Economics and Management</td>\n      <td>Bachelors</td>\n      <td>$66,100</td>\n      <td>$146,400</td>\n      <td>67%</td>\n    </tr>\n    <tr>\n      <th>7</th>\n      <td>8</td>\n      <td>Business Computing (BC)</td>\n      <td>Bachelors</td>\n      <td>$73,000</td>\n      <td>$143,600</td>\n      <td>-</td>\n    </tr>\n    <tr>\n      <th>8</th>\n      <td>9</td>\n      <td>Actuarial Mathematics</td>\n      <td>Bachelors</td>\n      <td>$64,300</td>\n      <td>$143,400</td>\n      <td>51%</td>\n    </tr>\n    <tr>\n      <th>9</th>\n      <td>10</td>\n      <td>Electrical Power Engineering</td>\n      <td>Bachelors</td>\n      <td>$76,100</td>\n      <td>$142,600</td>\n      <td>68%</td>\n    </tr>\n    <tr>\n      <th>10</th>\n      <td>11</td>\n      <td>Information &amp; Computer Science</td>\n      <td>Bachelors</td>\n      <td>$58,600</td>\n      <td>$140,900</td>\n      <td>62%</td>\n    </tr>\n    <tr>\n      <th>11</th>\n      <td>12</td>\n      <td>Aeronautics &amp; Astronautics</td>\n      <td>Bachelors</td>\n      <td>$77,600</td>\n      <td>$139,600</td>\n      <td>56%</td>\n    </tr>\n    <tr>\n      <th>12</th>\n      <td>13</td>\n      <td>Systems Engineering</td>\n      <td>Bachelors</td>\n      <td>$77,700</td>\n      <td>$139,200</td>\n      <td>53%</td>\n    </tr>\n    <tr>\n      <th>13</th>\n      <td>14</td>\n      <td>Econometrics</td>\n      <td>Bachelors</td>\n      <td>$64,200</td>\n      <td>$139,000</td>\n      <td>35%</td>\n    </tr>\n    <tr>\n      <th>14</th>\n      <td>15</td>\n      <td>Pharmacy</td>\n      <td>Bachelors</td>\n      <td>$68,600</td>\n      <td>$138,700</td>\n      <td>78%</td>\n    </tr>\n    <tr>\n      <th>15</th>\n      <td>16</td>\n      <td>Aerospace Studies</td>\n      <td>Bachelors</td>\n      <td>$55,800</td>\n      <td>$136,600</td>\n      <td>-</td>\n    </tr>\n    <tr>\n      <th>16</th>\n      <td>17</td>\n      <td>Building Science</td>\n      <td>Bachelors</td>\n      <td>$53,800</td>\n      <td>$135,900</td>\n      <td>53%</td>\n    </tr>\n    <tr>\n      <th>17</th>\n      <td>17</td>\n      <td>Chemical Engineering</td>\n      <td>Bachelors</td>\n      <td>$76,900</td>\n      <td>$135,900</td>\n      <td>55%</td>\n    </tr>\n    <tr>\n      <th>18</th>\n      <td>19</td>\n      <td>Cognitive Science</td>\n      <td>Bachelors</td>\n      <td>$68,700</td>\n      <td>$135,200</td>\n      <td>42%</td>\n    </tr>\n    <tr>\n      <th>19</th>\n      <td>20</td>\n      <td>Actuarial Science</td>\n      <td>Bachelors</td>\n      <td>$67,700</td>\n      <td>$134,400</td>\n      <td>43%</td>\n    </tr>\n    <tr>\n      <th>20</th>\n      <td>21</td>\n      <td>Political Economy</td>\n      <td>Bachelors</td>\n      <td>$65,100</td>\n      <td>$133,500</td>\n      <td>29%</td>\n    </tr>\n    <tr>\n      <th>21</th>\n      <td>22</td>\n      <td>Computer Systems Engineering</td>\n      <td>Bachelors</td>\n      <td>$79,000</td>\n      <td>$133,200</td>\n      <td>51%</td>\n    </tr>\n    <tr>\n      <th>22</th>\n      <td>23</td>\n      <td>Electrical &amp; Computer Engineering (ECE)</td>\n      <td>Bachelors</td>\n      <td>$78,100</td>\n      <td>$131,600</td>\n      <td>49%</td>\n    </tr>\n    <tr>\n      <th>23</th>\n      <td>24</td>\n      <td>Computer Science (CS) &amp; Engineering</td>\n      <td>Bachelors</td>\n      <td>$79,400</td>\n      <td>$131,300</td>\n      <td>44%</td>\n    </tr>\n    <tr>\n      <th>24</th>\n      <td>24</td>\n      <td>Marine Engineering</td>\n      <td>Bachelors</td>\n      <td>$79,900</td>\n      <td>$131,300</td>\n      <td>60%</td>\n    </tr>\n  </tbody>\n</table>\n</div>"
     },
     "execution_count": 176,
     "metadata": {},
     "output_type": "execute_result"
    }
   ],
   "source": [
    "df.dropna()"
   ],
   "metadata": {
    "collapsed": false,
    "ExecuteTime": {
     "end_time": "2023-08-13T10:08:57.069399900Z",
     "start_time": "2023-08-13T10:08:57.046244100Z"
    }
   },
   "id": "f7adab1b208d163e"
  },
  {
   "cell_type": "markdown",
   "source": [],
   "metadata": {
    "collapsed": false
   },
   "id": "d13f8c686518ee40"
  },
  {
   "cell_type": "code",
   "execution_count": null,
   "outputs": [],
   "source": [],
   "metadata": {
    "collapsed": false
   },
   "id": "633bb2b4aa1d2772"
  }
 ],
 "metadata": {
  "kernelspec": {
   "display_name": "Python 3",
   "language": "python",
   "name": "python3"
  },
  "language_info": {
   "codemirror_mode": {
    "name": "ipython",
    "version": 2
   },
   "file_extension": ".py",
   "mimetype": "text/x-python",
   "name": "python",
   "nbconvert_exporter": "python",
   "pygments_lexer": "ipython2",
   "version": "2.7.6"
  }
 },
 "nbformat": 4,
 "nbformat_minor": 5
}
