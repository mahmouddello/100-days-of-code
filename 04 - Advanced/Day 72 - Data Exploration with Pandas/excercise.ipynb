{
 "cells": [
  {
   "cell_type": "code",
   "execution_count": null,
   "id": "initial_id",
   "metadata": {
    "collapsed": true
   },
   "outputs": [],
   "source": [
    "import pandas as pd\n",
    "import re"
   ]
  },
  {
   "cell_type": "code",
   "execution_count": null,
   "outputs": [],
   "source": [
    "html_tables = pd.read_html(\"https://www.payscale.com/college-salary-report/majors-that-pay-you-back/bachelors\")"
   ],
   "metadata": {
    "collapsed": false
   },
   "id": "3dfc4abead74ca9c"
  },
  {
   "cell_type": "code",
   "execution_count": null,
   "outputs": [],
   "source": [
    "df = html_tables[0].copy()\n",
    "df.columns = [column.split(\".\")[0].removesuffix(\" \") for column in df.columns]\n",
    "df.head()"
   ],
   "metadata": {
    "collapsed": false
   },
   "id": "f15e0d8f5cb64d1b"
  },
  {
   "cell_type": "code",
   "execution_count": null,
   "outputs": [],
   "source": [
    "df[\"% High Meaning \"] = df[\"% High Meaning \"].str.replace(\"% High Meaning:\", \"\")"
   ],
   "metadata": {
    "collapsed": false
   },
   "id": "9652af902e59992a"
  },
  {
   "cell_type": "code",
   "execution_count": null,
   "outputs": [],
   "source": [
    "df"
   ],
   "metadata": {
    "collapsed": false
   },
   "id": "930fdc87a1a4d4c7"
  },
  {
   "cell_type": "code",
   "execution_count": null,
   "outputs": [],
   "source": [
    "df.dropna()"
   ],
   "metadata": {
    "collapsed": false
   },
   "id": "f7adab1b208d163e"
  }
 ],
 "metadata": {
  "kernelspec": {
   "display_name": "Python 3",
   "language": "python",
   "name": "python3"
  },
  "language_info": {
   "codemirror_mode": {
    "name": "ipython",
    "version": 2
   },
   "file_extension": ".py",
   "mimetype": "text/x-python",
   "name": "python",
   "nbconvert_exporter": "python",
   "pygments_lexer": "ipython2",
   "version": "2.7.6"
  }
 },
 "nbformat": 4,
 "nbformat_minor": 5
}
