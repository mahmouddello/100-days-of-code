{
 "cells": [
  {
   "cell_type": "markdown",
   "source": [
    "Learning Points & Summary\n",
    "In this lesson we looked at how to:\n",
    "\n",
    "* Create arrays manually with `np.array()`\n",
    "\n",
    "* Generate arrays using  `.arange()`, `.random()`, and `.linspace()`\n",
    "\n",
    "* Analyse the shape and dimensions of a ndarray\n",
    "\n",
    "* Slice and subset a ndarray based on its indices\n",
    "\n",
    "* Do linear algebra like operations with scalars and matrix multiplication\n",
    "\n",
    "* Use NumPys broadcasting to make ndarray shapes compatible\n",
    "\n",
    "* Manipulate images in the form of ndarrays\n",
    "\n",
    "You can download the completed code for today in this lesson.\n",
    "\n",
    "Oh, and congratulations on completing one of the most mathematical lessons in the course!  Good stuff!"
   ],
   "metadata": {
    "collapsed": false
   },
   "id": "47f1696cc785bfff"
  }
 ],
 "metadata": {
  "kernelspec": {
   "display_name": "Python 3",
   "language": "python",
   "name": "python3"
  },
  "language_info": {
   "codemirror_mode": {
    "name": "ipython",
    "version": 2
   },
   "file_extension": ".py",
   "mimetype": "text/x-python",
   "name": "python",
   "nbconvert_exporter": "python",
   "pygments_lexer": "ipython2",
   "version": "2.7.6"
  }
 },
 "nbformat": 4,
 "nbformat_minor": 5
}
